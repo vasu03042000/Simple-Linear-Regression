{
 "cells": [
  {
   "cell_type": "code",
   "execution_count": 2,
   "metadata": {},
   "outputs": [],
   "source": [
    "filel=open(\"Lab 5d.txt\",\"r\",encoding='UTF-8')"
   ]
  },
  {
   "cell_type": "code",
   "execution_count": 3,
   "metadata": {},
   "outputs": [],
   "source": [
    "import random\n",
    "import os"
   ]
  },
  {
   "cell_type": "code",
   "execution_count": 5,
   "metadata": {},
   "outputs": [
    {
     "ename": "UnicodeDecodeError",
     "evalue": "'utf-8' codec can't decode byte 0x97 in position 0: invalid start byte",
     "output_type": "error",
     "traceback": [
      "\u001b[1;31m---------------------------------------------------------------------------\u001b[0m",
      "\u001b[1;31mUnicodeDecodeError\u001b[0m                        Traceback (most recent call last)",
      "\u001b[1;32m<ipython-input-5-826566cbc330>\u001b[0m in \u001b[0;36m<module>\u001b[1;34m()\u001b[0m\n\u001b[0;32m      1\u001b[0m \u001b[0marray\u001b[0m\u001b[1;33m=\u001b[0m\u001b[1;33m[\u001b[0m\u001b[1;33m]\u001b[0m\u001b[1;33m\u001b[0m\u001b[0m\n\u001b[1;32m----> 2\u001b[1;33m \u001b[1;32mfor\u001b[0m \u001b[0mi\u001b[0m \u001b[1;32min\u001b[0m \u001b[0mfilel\u001b[0m\u001b[1;33m:\u001b[0m\u001b[1;33m\u001b[0m\u001b[0m\n\u001b[0m\u001b[0;32m      3\u001b[0m     \u001b[0marray\u001b[0m\u001b[1;33m.\u001b[0m\u001b[0mappend\u001b[0m\u001b[1;33m(\u001b[0m\u001b[0mi\u001b[0m\u001b[1;33m.\u001b[0m\u001b[0mstrip\u001b[0m\u001b[1;33m(\u001b[0m\u001b[1;33m)\u001b[0m\u001b[1;33m)\u001b[0m\u001b[1;33m\u001b[0m\u001b[0m\n\u001b[0;32m      4\u001b[0m \u001b[1;33m\u001b[0m\u001b[0m\n",
      "\u001b[1;32m~\\Anaconda3\\lib\\codecs.py\u001b[0m in \u001b[0;36mdecode\u001b[1;34m(self, input, final)\u001b[0m\n\u001b[0;32m    319\u001b[0m         \u001b[1;31m# decode input (taking the buffer into account)\u001b[0m\u001b[1;33m\u001b[0m\u001b[1;33m\u001b[0m\u001b[0m\n\u001b[0;32m    320\u001b[0m         \u001b[0mdata\u001b[0m \u001b[1;33m=\u001b[0m \u001b[0mself\u001b[0m\u001b[1;33m.\u001b[0m\u001b[0mbuffer\u001b[0m \u001b[1;33m+\u001b[0m \u001b[0minput\u001b[0m\u001b[1;33m\u001b[0m\u001b[0m\n\u001b[1;32m--> 321\u001b[1;33m         \u001b[1;33m(\u001b[0m\u001b[0mresult\u001b[0m\u001b[1;33m,\u001b[0m \u001b[0mconsumed\u001b[0m\u001b[1;33m)\u001b[0m \u001b[1;33m=\u001b[0m \u001b[0mself\u001b[0m\u001b[1;33m.\u001b[0m\u001b[0m_buffer_decode\u001b[0m\u001b[1;33m(\u001b[0m\u001b[0mdata\u001b[0m\u001b[1;33m,\u001b[0m \u001b[0mself\u001b[0m\u001b[1;33m.\u001b[0m\u001b[0merrors\u001b[0m\u001b[1;33m,\u001b[0m \u001b[0mfinal\u001b[0m\u001b[1;33m)\u001b[0m\u001b[1;33m\u001b[0m\u001b[0m\n\u001b[0m\u001b[0;32m    322\u001b[0m         \u001b[1;31m# keep undecoded input until the next call\u001b[0m\u001b[1;33m\u001b[0m\u001b[1;33m\u001b[0m\u001b[0m\n\u001b[0;32m    323\u001b[0m         \u001b[0mself\u001b[0m\u001b[1;33m.\u001b[0m\u001b[0mbuffer\u001b[0m \u001b[1;33m=\u001b[0m \u001b[0mdata\u001b[0m\u001b[1;33m[\u001b[0m\u001b[0mconsumed\u001b[0m\u001b[1;33m:\u001b[0m\u001b[1;33m]\u001b[0m\u001b[1;33m\u001b[0m\u001b[0m\n",
      "\u001b[1;31mUnicodeDecodeError\u001b[0m: 'utf-8' codec can't decode byte 0x97 in position 0: invalid start byte"
     ]
    }
   ],
   "source": [
    "array=[]\n",
    "for i in filel:\n",
    "    array.append(i.strip())\n",
    "    "
   ]
  },
  {
   "cell_type": "code",
   "execution_count": 28,
   "metadata": {},
   "outputs": [],
   "source": [
    "for j in array:\n",
    "    print(j)"
   ]
  },
  {
   "cell_type": "code",
   "execution_count": 29,
   "metadata": {},
   "outputs": [
    {
     "name": "stdout",
     "output_type": "stream",
     "text": [
      "[]\n",
      "[]\n"
     ]
    }
   ],
   "source": [
    "print(array)\n",
    "for i in range(len(array)):\n",
    "    x=array[i]\n",
    "    array[i]=x.split(\" \")\n",
    "print(array)"
   ]
  },
  {
   "cell_type": "code",
   "execution_count": 6,
   "metadata": {},
   "outputs": [
    {
     "name": "stdout",
     "output_type": "stream",
     "text": [
      "[' I love', ' love the', ' the world', ' world and', ' and the', ' the things', ' things in', ' I love', ' love the', ' the way', ' way cheetah', ' I am', ' am a', ' a man', ' man of', ' I will', ' will be', ' be a', ' a rich', ' I am', ' am a', ' a teenager', ' teenager so', ' so I', ' I am', ' am a', ' I am', ' am an', ' an iconoclast', ' iconoclast and', ' and a', ' I believe', ' believe in', ' I love', ' I watch', ' watch a', ' a movie', ' movie every', ' I hate', ' I love', ' love the', ' the work', ' work of', ' I love', ' love the', ' the beauty', ' beauty of', ' of this', ' I adore', ' adore the', ' the way', ' way people', ' people try', ' try solve', ' solve hard', ' I am', ' am nothing', ' nothing but', ' but a', ' a blade', ' blade of', ' I will', ' will unleash', ' unleash a', ' a lot', ' lot of', ' of prophecies', ' prophecies and', ' and will', ' will bring', ' bring down', ' down hordes', ' hordes of', ' of legions', ' legions unto', ' unto this', ' this earth', ' earth to', ' to destroy', ' I love', ' love doing', ' doing things', ' things in', ' in a', ' a peculiar', ' I love', ' love and', ' and hate', ' hate probability.', ' probability. It', ' It is', ' is so', ' so stupid', ' stupid and', ' and fun', ' fun at', ' at the', ' the same', ' I love', ' love the', ' the way', ' way software', ' software programs', ' I love', ' love my']\n"
     ]
    }
   ],
   "source": [
    "f=[]\n",
    "for j in range(2,6):\n",
    "    array=[]\n",
    "    for k in array:\n",
    "        for l in range(len(a)-alpha):\n",
    "            x=\"\"\n",
    "            for y in range(alpha):\n",
    "                x=x+\" \"+k[y+l]\n",
    "            array.append(x)\n",
    "    f.append(array)\n",
    "print(f[0])\n",
    "        "
   ]
  },
  {
   "cell_type": "code",
   "execution_count": 7,
   "metadata": {},
   "outputs": [
    {
     "name": "stdout",
     "output_type": "stream",
     "text": [
      "{' I love': 9, ' love the': 5, ' the world': 1, ' world and': 1, ' and the': 1, ' the things': 1, ' things in': 2, ' the way': 3, ' way cheetah': 1, ' I am': 5, ' am a': 3, ' a man': 1, ' man of': 1, ' I will': 2, ' will be': 1, ' be a': 1, ' a rich': 1, ' a teenager': 1, ' teenager so': 1, ' so I': 1, ' am an': 1, ' an iconoclast': 1, ' iconoclast and': 1, ' and a': 1, ' I believe': 1, ' believe in': 1, ' I watch': 1, ' watch a': 1, ' a movie': 1, ' movie every': 1, ' I hate': 1, ' the work': 1, ' work of': 1, ' the beauty': 1, ' beauty of': 1, ' of this': 1, ' I adore': 1, ' adore the': 1, ' way people': 1, ' people try': 1, ' try solve': 1, ' solve hard': 1, ' am nothing': 1, ' nothing but': 1, ' but a': 1, ' a blade': 1, ' blade of': 1, ' will unleash': 1, ' unleash a': 1, ' a lot': 1, ' lot of': 1, ' of prophecies': 1, ' prophecies and': 1, ' and will': 1, ' will bring': 1, ' bring down': 1, ' down hordes': 1, ' hordes of': 1, ' of legions': 1, ' legions unto': 1, ' unto this': 1, ' this earth': 1, ' earth to': 1, ' to destroy': 1, ' love doing': 1, ' doing things': 1, ' in a': 1, ' a peculiar': 1, ' love and': 1, ' and hate': 1, ' hate probability.': 1, ' probability. It': 1, ' It is': 1, ' is so': 1, ' so stupid': 1, ' stupid and': 1, ' and fun': 1, ' fun at': 1, ' at the': 1, ' the same': 1, ' way software': 1, ' software programs': 1, ' love my': 1}\n"
     ]
    }
   ],
   "source": [
    "filecnt=[]\n",
    "l=0\n",
    "for i in f:\n",
    "    fd={}\n",
    "    for k in i:\n",
    "        try:\n",
    "            fd[k]=fd[k]+1\n",
    "            l=1\n",
    "        finally:\n",
    "        if(l==0):\n",
    "            fd[j]=1\n",
    "    filecnt.append(fd)\n",
    "print(filecnt[0])"
   ]
  },
  {
   "cell_type": "code",
   "execution_count": 8,
   "metadata": {},
   "outputs": [
    {
     "name": "stdout",
     "output_type": "stream",
     "text": [
      "[['I', 'I', 'I', 'I', 'I', 'I', 'I', 'I', 'I', 'I', 'I', 'I', 'I', 'I', 'I', 'I', 'I', 'I', 'I'], ['love', 'love', 'am', 'will', 'am', 'am', 'believe', 'love', 'watch', 'hate', 'love', 'love', 'adore', 'am', 'will', 'love', 'love', 'love', 'love'], ['the', 'the', 'a', 'be', 'a', 'an', 'in', 'everything.', 'a', 'pollution.', 'the', 'the', 'the', 'nothing', 'unleash', 'doing', 'and', 'the', 'my'], ['world', 'way', 'man', 'a', 'teenager', 'iconoclast', 'education.', 'movie', 'work', 'beauty', 'way', 'but', 'a', 'things', 'hate', 'way', 'room.'], ['and', 'cheetah', 'of', 'rich', 'so', 'and', 'every', 'of', 'of', 'people', 'a', 'lot', 'in', 'probability.', 'software'], ['the', 'runs.', 'honor.', 'guy.', 'I', 'a', 'day.', 'god.', 'this', 'try', 'blade', 'of', 'a', 'It', 'programs'], ['things', 'am', 'fighter', 'world.', 'solve', 'of', 'prophecies', 'peculiar', 'is', 'work.'], ['in', 'a', 'hard', 'grass.', 'and', 'way.', 'so'], ['it.', 'rebel.', 'things.', 'will', 'stupid'], ['bring', 'and'], ['down', 'fun'], ['hordes', 'at'], ['of', 'the'], ['legions', 'same'], ['unto', 'time.'], ['this'], ['earth'], ['to'], ['destroy'], ['you.']]\n"
     ]
    }
   ],
   "source": [
    "r=[]\n",
    "cn=0\n",
    "l=0\n",
    "for i in array:\n",
    "    for j in i :\n",
    "        try:\n",
    "            r[cn].append(j)\n",
    "             l=1\n",
    "        finally:\n",
    "        if(l==0):\n",
    "            r.append([j])\n",
    "        cn=cn+1\n",
    "    cn=0\n",
    "print(r)\n",
    "    "
   ]
  },
  {
   "cell_type": "code",
   "execution_count": 76,
   "metadata": {},
   "outputs": [
    {
     "name": "stdout",
     "output_type": "stream",
     "text": [
      "Enter the search = I am\n",
      "[[' I am a', 3], [' I am an', 1], [' I am nothing', 1]]\n",
      "[[' I am a', 3], [' I am an', 1], [' I am nothing', 1]]\n",
      "[[' I am a', 3], [' I am an', 1], [' I am nothing', 1]]\n",
      "a\n",
      "an\n",
      "nothing\n"
     ]
    }
   ],
   "source": [
    "ans=input(\"Enter the search= \")\n",
    "ans=ans.strip()\n",
    "duplicate=ans\n",
    "if(ans==\"\"):\n",
    "    print(\"Empty Input\")\n",
    "else:\n",
    "    ans=ans[0].capitalize()+ans[1:len(a)]\n",
    "    ans=ans.split(\" \")\n",
    "lofx=len(ans)\n",
    "s=filecnt[len(ans)-1]\n",
    "fw=\"\"\n",
    "sd=[]\n",
    "for i in ans:\n",
    "    fw=fw+i\n",
    "for i in s:\n",
    "    p=i.split(\" \")\n",
    "    w=\"\"\n",
    "    for j in range(len(p)-1):\n",
    "        x=x+p[j]\n",
    "    x=x.strip()\n",
    "    if(x==fw):\n",
    "        sd.append([i,s[i]])\n",
    "print(sd)\n",
    "for i in range(len(sd)-1):\n",
    "    t=sd[i][1]\n",
    "    for j in range(i+1,len(sd)):\n",
    "        if(sd[j][1]>t):\n",
    "            sd[i],sd[j]=sd[j],sd[i]\n",
    "print(sd)\n",
    "for i in range(len(sd)-1):\n",
    "    t=sd[i][1]\n",
    "    t1=sd[i][0]\n",
    "    for j in range(i+1,len(sd)):\n",
    "        if((sd[j][1]==t) & (sd[j][0]<t1)):\n",
    "            sd[i],sd[j]=sd[j],sd[i]\n",
    "\n",
    "\n",
    "print(sd)\n",
    "c=4        \n",
    "for i in range(c):\n",
    "    try:\n",
    "        ans=sd[i][0].split(\" \")\n",
    "        print(ans[len(ans)-1])\n",
    "    except:\n",
    "        continue"
   ]
  },
  {
   "cell_type": "code",
   "execution_count": 90,
   "metadata": {},
   "outputs": [
    {
     "name": "stdout",
     "output_type": "stream",
     "text": [
      "Enter = legions\n",
      "legions unto this earth to\n"
     ]
    }
   ],
   "source": [
    "n=4\n",
    "ans=input(\"Enter = \")\n",
    "ans=ans.strip()\n",
    "ind=0\n",
    "temp=0\n",
    "for i in range(len(r)):\n",
    "    if (ans in r[i]):\n",
    "        ind=i\n",
    "        temp=1\n",
    "        break\n",
    "if(temp!=1):\n",
    "    print(\"No such entry , random generation from beginning\")\n",
    "    t=0\n",
    "    res=\"\"\n",
    "else:\n",
    "    t=ind+1\n",
    "    res=ans+\"\"\n",
    "\n",
    "for i in range(n):\n",
    "    try:\n",
    "        res=res+\" \"+r[t][random.randint(0,len(r[t])-1)]\n",
    "        t=t+1\n",
    "    except:\n",
    "        break\n",
    "print(res)\n"
   ]
  },
  {
   "cell_type": "code",
   "execution_count": null,
   "metadata": {},
   "outputs": [],
   "source": []
  },
  {
   "cell_type": "code",
   "execution_count": null,
   "metadata": {},
   "outputs": [],
   "source": []
  },
  {
   "cell_type": "code",
   "execution_count": null,
   "metadata": {},
   "outputs": [],
   "source": []
  }
 ],
 "metadata": {
  "kernelspec": {
   "display_name": "Python 3",
   "language": "python",
   "name": "python3"
  },
  "language_info": {
   "codemirror_mode": {
    "name": "ipython",
    "version": 3
   },
   "file_extension": ".py",
   "mimetype": "text/x-python",
   "name": "python",
   "nbconvert_exporter": "python",
   "pygments_lexer": "ipython3",
   "version": "3.6.5"
  }
 },
 "nbformat": 4,
 "nbformat_minor": 2
}
